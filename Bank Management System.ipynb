{
 "cells": [
  {
   "cell_type": "markdown",
   "id": "existing-aircraft",
   "metadata": {},
   "source": [
    "<h3 align=\"center\">UPLIFT BATCH-2</h3> "
   ]
  },
  {
   "cell_type": "markdown",
   "id": "higher-communication",
   "metadata": {},
   "source": [
    "<h3 align=\"center\">ASSIGNMENT-2</h3> "
   ]
  },
  {
   "cell_type": "markdown",
   "id": "related-special",
   "metadata": {},
   "source": [
    "SUBMITTED BY ***GARIMA***"
   ]
  },
  {
   "cell_type": "markdown",
   "id": "lesser-diploma",
   "metadata": {},
   "source": [
    "**Question**:Using the concepts of OOPS, design a basic banking management system or a hospital management system (your choice). For the banking management system, you can take into account different operations like withdrawal, deposit of money, checking the balance and so on. You can also implement the concepts of inheritance to make it more systematic and beginner friendly."
   ]
  },
  {
   "cell_type": "markdown",
   "id": "isolated-herald",
   "metadata": {},
   "source": [
    "<h3 align=\"center\">Bank Management System</h3> "
   ]
  },
  {
   "cell_type": "code",
   "execution_count": 1,
   "id": "ordered-january",
   "metadata": {},
   "outputs": [],
   "source": [
    "class BankAccount:\n",
    "\n",
    "    no_of_cust = 0\n",
    "    acc_num = 1100\n",
    "\n",
    "    def __init__(self, name, mobile_no, initial_depo, pin):\n",
    "        \n",
    "        self.name = name\n",
    "        self.cust_acc_num = BankAccount.acc_num\n",
    "        self.mobile_no = mobile_no\n",
    "        self.acc_balance = initial_depo\n",
    "        self.pin = pin\n",
    "        \n",
    "        BankAccount.acc_num = BankAccount.acc_num + 1\n",
    "        BankAccount.no_of_cust = BankAccount.no_of_cust + 1\n",
    "\n",
    "    def basic_details(self):\n",
    "        print(f'User: {self.name}\\t Account No: {self.cust_acc_num}\\t Balance: ₹{self.acc_balance}')\n",
    "\n",
    "    def deposit(self):\n",
    "        amount = int(input('Enter the deposit amount: '))\n",
    "        if amount > 0:\n",
    "            self.acc_balance = self.acc_balance + amount\n",
    "            print(f'Transaction completed. Current Balance: ₹{self.acc_balance}')\n",
    "        else:\n",
    "            print('Invalid amount transaction aborted')\n",
    "\n",
    "    def withdrawl(self):\n",
    "        amount = int(input('Enter the withdrawl amount: '))\n",
    "        if amount <= self.acc_balance and amount > 0:\n",
    "            self.acc_balance      = self.acc_balance - amount\n",
    "            print(f'Transaction completed. Current Balance: ₹{self.acc_balance}')\n",
    "        else:\n",
    "            print('Invalid amount transaction aborted')\n",
    "\n",
    "    def payment(self, other):\n",
    "        amount = int(input('Enter the payment amount: '))\n",
    "        if amount <= self.acc_balance and amount > 0:\n",
    "            self.acc_balance      = self.acc_balance - amount\n",
    "            other.acc_balance     = other.acc_balance + amount\n",
    "            print(f'Transaction completed. Current Balance: ₹{self.acc_balance}')\n",
    "        else:\n",
    "            print('Invalid amount transaction aborted')"
   ]
  },
  {
   "cell_type": "code",
   "execution_count": null,
   "id": "strategic-simple",
   "metadata": {},
   "outputs": [],
   "source": [
    "customer_dict = {}             \n",
    "mobile_acc_link = {}           \n",
    "\n",
    "def new_cust():\n",
    "    name = input('Enter the name of customer: ')\n",
    "    mobile_no = int(input('Enter the mobile number of customer: '))\n",
    "    initial_depo = int(input('Enter the initial deposit amount: '))\n",
    "    if initial_depo <= 0:\n",
    "        print('Invalid Amount')\n",
    "        return\n",
    "    pin = int(input('Create PIN: '))\n",
    "    customer = BankAccount(name=name, mobile_no=mobile_no, initial_depo=initial_depo, pin=pin)\n",
    "    customer_dict[customer.cust_acc_num] = customer                 \n",
    "    mobile_acc_link[customer.mobile_no] = customer.cust_acc_num     \n",
    "    print('New User Created!')\n",
    "    print(f'Welcome {customer.name} to Corporate Bank. {customer.cust_acc_num} is your account number')\n",
    "\n",
    "def login():\n",
    "    account_no = int(input('Enter your Account Number: '))\n",
    "    account_pin = int(input('Enter your Account PIN: '))\n",
    "    if account_no in customer_dict.keys() and account_pin == customer_dict[account_no].pin :\n",
    "        print(f'\\n{customer_dict[account_no].name} Logged in')\n",
    "        customer_dict[account_no].basic_details()\n",
    "    else:\n",
    "        print('Account either not exist or the pin is wrong')\n",
    "        return\n",
    "    while True:\n",
    "        user_input1 = input('''Press 1 for deposit:\n",
    "    Press 2 for withdrawl:\n",
    "    Press 3 for money transfer:\n",
    "    Press 4 to log out\\n''')\n",
    "        if user_input1 == '1':\n",
    "            customer_dict[account_no].deposit()\n",
    "        elif user_input1 == '2':\n",
    "            customer_dict[account_no].withdrawl()\n",
    "        elif user_input1 == '3':\n",
    "            mobile = int(input('Enter the mobile number of recepient: '))\n",
    "            if mobile in mobile_acc_link.keys():\n",
    "                secondary = mobile_acc_link[mobile]             \n",
    "                customer_dict[account_no].payment(customer_dict[secondary])\n",
    "            else:\n",
    "                print('The mobile number you have enter does not have an account associated with it')\n",
    "        elif user_input1 == '4':\n",
    "            print('Logged Out')\n",
    "            return\n",
    "        else:\n",
    "            print('Invalid input try again')\n",
    "        print('\\n#############################################################\\n')\n",
    "        customer_dict[account_no].basic_details()\n",
    "\n",
    "\n",
    "while True:\n",
    "    user_input1 = input('''Press 1 for creating a new customer:\n",
    "Press 2 for logging in as an existing customer:\n",
    "Press 3 for displaying number of customers:\n",
    "Press 4 for exit\\n''')\n",
    "\n",
    "    if user_input1 == '1':\n",
    "        print('Create user')\n",
    "        new_cust()\n",
    "    elif user_input1 == '2':\n",
    "        login()\n",
    "    elif user_input1 == '3':\n",
    "        print('There currently', BankAccount.no_of_cust,'customers in Corporate bank.')\n",
    "    elif user_input1 == '4':\n",
    "        print('Exited')\n",
    "        break\n",
    "    else:\n",
    "        print('Invalid input try again')\n",
    "    print('\\n*************************************************************\\n')"
   ]
  },
  {
   "cell_type": "code",
   "execution_count": null,
   "id": "neural-stereo",
   "metadata": {},
   "outputs": [],
   "source": []
  }
 ],
 "metadata": {
  "kernelspec": {
   "display_name": "Python 3",
   "language": "python",
   "name": "python3"
  },
  "language_info": {
   "codemirror_mode": {
    "name": "ipython",
    "version": 3
   },
   "file_extension": ".py",
   "mimetype": "text/x-python",
   "name": "python",
   "nbconvert_exporter": "python",
   "pygments_lexer": "ipython3",
   "version": "3.7.1"
  }
 },
 "nbformat": 4,
 "nbformat_minor": 5
}
