{
 "cells": [
  {
   "cell_type": "markdown",
   "id": "peaceful-kenya",
   "metadata": {},
   "source": [
    "<h3 align=\"center\">UPLIFT BATCH-2</h3> "
   ]
  },
  {
   "cell_type": "markdown",
   "id": "hybrid-subcommittee",
   "metadata": {},
   "source": [
    "<h3 align=\"center\">ASSIGNMENT-1</h3> "
   ]
  },
  {
   "cell_type": "markdown",
   "id": "tight-proceeding",
   "metadata": {},
   "source": [
    "SUBMITTED BY ***GARIMA***"
   ]
  },
  {
   "cell_type": "markdown",
   "id": "latin-subscriber",
   "metadata": {},
   "source": [
    "**Question 1:**\n",
    "Load the data from the attached file and store the following in a file \"result.txt\" and save it.\n",
    "1. Frequency of names - store it as a dictionary as {\"name\": frequency} sorted by name \n",
    "2. Frequency of marks -  store it as a dictionary as {marks: frequency} sorted by frequency descending\n",
    "3. Marks of each student - store it as a dictionary as {\"name\":[tuple(list of marks of the student, sum of marks)]} sorted by sum of marks ascending\n"
   ]
  },
  {
   "cell_type": "code",
   "execution_count": 47,
   "id": "related-dynamics",
   "metadata": {},
   "outputs": [],
   "source": [
    "import re"
   ]
  },
  {
   "cell_type": "code",
   "execution_count": 48,
   "id": "buried-diesel",
   "metadata": {},
   "outputs": [
    {
     "name": "stdout",
     "output_type": "stream",
     "text": [
      "['Alpha', 'Alpha', 'Alpha', 'Alpha', 'Alpha', 'Alpha', 'Alpha', 'Alpha', 'Alpha', 'Alpha', 'Alpha', 'Alpha', 'Alpha', 'Alpha', 'Alpha', 'Beta', 'Beta', 'Beta', 'Beta', 'Beta', 'Beta', 'Beta', 'Beta', 'Beta', 'Beta', 'Beta', 'Beta', 'Beyonder', 'Beyonder', 'Beyonder', 'Beyonder', 'Beyonder', 'Beyonder', 'Beyonder', 'Beyonder', 'Beyonder', 'Beyonder', 'Beyonder', 'Beyonder', 'Beyonder', 'Beyonder', 'Beyonder', 'Bjor', 'Bjor', 'Bjor', 'Bjor', 'Bjor', 'Bjor', 'Brody', 'Brody', 'Brody', 'Brody', 'Brody', 'Brody', 'Chris', 'Chris', 'Chris', 'Chris', 'Chris', 'Chris', 'Jack', 'Jack', 'Jack', 'Jack', 'Jack', 'Jack', 'Jack', 'Jack', 'Jack', 'Jatz', 'Jatz', 'Jatz', 'Jatz', 'Jatz', 'Jatz', 'Jaya', 'Jaya', 'Jaya', 'Jaya', 'Jaya', 'Jaya', 'Jaya', 'Jaya', 'Jaya', 'Jaya', 'Jaya', 'Jaya', 'Jim', 'Jim', 'Jim', 'Jim', 'Jim', 'Jim', 'Jim', 'Jim', 'Jim', 'John', 'John', 'John', 'Katy', 'Katy', 'Katy', 'Katy', 'Katy', 'Katy', 'Katy', 'Katy', 'Katy', 'Katy', 'Katy', 'Katy', 'Katy', 'Katy', 'Katy', 'Katy', 'Katy', 'Katy', 'Katy', 'Katy', 'Katy', 'Ludwika', 'Ludwika', 'Ludwika', 'Ludwika', 'Ludwika', 'Ludwika', 'Ram', 'Ram', 'Ram', 'Ram', 'Ram', 'Ram', 'Ram', 'Ram', 'Ram', 'Rima', 'Rima', 'Rima', 'Rima', 'Rima', 'Rima', 'Rima', 'Rima', 'Rima', 'Rina', 'Rina', 'Rina', 'Rina', 'Rina', 'Rina', 'Rina', 'Rina', 'Rina', 'Ron', 'Ron', 'Ron', 'Shyam', 'Shyam', 'Shyam', 'Shyam', 'Shyam', 'Shyam', 'Shyam', 'Shyam', 'Shyam', 'Stephanie', 'Stephanie', 'Stephanie', 'Stephanie', 'Stephanie', 'Stephanie', 'Stephanie', 'Stephanie', 'Stephanie', 'Stephanie', 'Stephanie', 'Stephanie', 'Stephanie', 'Stephanie', 'Stephanie', 'Thor', 'Thor', 'Thor', 'Thor', 'Thor', 'Thor', 'Tony', 'Tony', 'Tony', 'Tony', 'Tony', 'Tony']\n"
     ]
    }
   ],
   "source": [
    "with open('result.txt', 'r') as f:\n",
    "    n= re.findall(\"[a-zA-Z]+\", f.read())\n",
    "names=sorted(n)\n",
    "print(names)\n"
   ]
  },
  {
   "cell_type": "code",
   "execution_count": 49,
   "id": "rotary-pioneer",
   "metadata": {},
   "outputs": [
    {
     "name": "stdout",
     "output_type": "stream",
     "text": [
      "{'Jack', 'Brody', 'Beyonder', 'Thor', 'Ron', 'Beta', 'Shyam', 'John', 'Jim', 'Tony', 'Rima', 'Stephanie', 'Ludwika', 'Jaya', 'Ram', 'Chris', 'Rina', 'Bjor', 'Alpha', 'Jatz', 'Katy'}\n"
     ]
    }
   ],
   "source": [
    "dis_names = set(names)\n",
    "print(dis_names)"
   ]
  },
  {
   "cell_type": "markdown",
   "id": "conceptual-warner",
   "metadata": {},
   "source": [
    "<h3 align=\"center\">1.1</h3> "
   ]
  },
  {
   "cell_type": "code",
   "execution_count": 50,
   "id": "korean-neighborhood",
   "metadata": {},
   "outputs": [
    {
     "name": "stdout",
     "output_type": "stream",
     "text": [
      "1.Frequency of names\n",
      "{'Alpha': 15, 'Beta': 12, 'Beyonder': 15, 'Bjor': 6, 'Brody': 6, 'Chris': 6, 'Jack': 9, 'Jatz': 6, 'Jaya': 12, 'Jim': 9, 'John': 3, 'Katy': 21, 'Ludwika': 6, 'Ram': 9, 'Rima': 9, 'Rina': 9, 'Ron': 3, 'Shyam': 9, 'Stephanie': 15, 'Thor': 6, 'Tony': 6}\n"
     ]
    }
   ],
   "source": [
    "frequency_n= {}\n",
    "for name in names:\n",
    "    if name in frequency_n:\n",
    "        frequency_n[name] += 1\n",
    "    else:\n",
    "        frequency_n[name] = 1\n",
    "print(\"1.Frequency of names\")\n",
    "print(frequency_n)"
   ]
  },
  {
   "cell_type": "code",
   "execution_count": 51,
   "id": "finnish-passage",
   "metadata": {},
   "outputs": [
    {
     "name": "stdout",
     "output_type": "stream",
     "text": [
      "[100, 100, 100, 100, 100, 100, 100, 100, 100, 100, 100, 100, 100, 100, 100, 100, 100, 100, 100, 100, 100, 100, 100, 100, 100, 100, 100, 100, 100, 100, 100, 100, 100, 100, 100, 100, 80, 80, 80, 80, 80, 80, 80, 80, 80, 80, 80, 80, 70, 70, 70, 70, 70, 70, 70, 70, 70, 70, 70, 70, 70, 70, 70, 70, 70, 70, 70, 70, 70, 70, 70, 70, 60, 60, 60, 60, 60, 60, 60, 60, 60, 60, 60, 60, 50, 50, 50, 50, 50, 50, 50, 50, 50, 50, 50, 50, 40, 40, 40, 40, 40, 40, 40, 40, 40, 40, 40, 40, 40, 40, 40, 40, 40, 40, 40, 40, 40, 40, 40, 40, 30, 30, 30, 30, 30, 30, 30, 30, 30, 30, 30, 30, 30, 30, 30, 30, 30, 30, 30, 30, 30, 30, 30, 30, 30, 30, 30, 30, 30, 30, 30, 30, 30, 30, 30, 30, 20, 20, 20, 20, 20, 20, 20, 20, 20, 20, 20, 20, 20, 20, 20, 20, 20, 20, 20, 20, 20, 20, 20, 20, 10, 10, 10, 10, 10, 10, 10, 10, 10, 10, 10, 10]\n"
     ]
    }
   ],
   "source": [
    "with open('result.txt', 'r') as f:\n",
    "    m= re.findall(\"[0-9]+\", f.read())\n",
    "for i in range(0, len(m)):\n",
    "    m[i] = int(m[i])\n",
    "\n",
    "marks=sorted(m,reverse=True)\n",
    "print(marks)"
   ]
  },
  {
   "cell_type": "code",
   "execution_count": 52,
   "id": "intended-operation",
   "metadata": {},
   "outputs": [
    {
     "name": "stdout",
     "output_type": "stream",
     "text": [
      "{100, 70, 40, 10, 80, 50, 20, 60, 30}\n"
     ]
    }
   ],
   "source": [
    "dis_marks = set(marks)\n",
    "print(dis_marks)"
   ]
  },
  {
   "cell_type": "markdown",
   "id": "available-invasion",
   "metadata": {},
   "source": [
    "<h3 align=\"center\">1.2</h3> "
   ]
  },
  {
   "cell_type": "code",
   "execution_count": 53,
   "id": "comfortable-contents",
   "metadata": {},
   "outputs": [
    {
     "name": "stdout",
     "output_type": "stream",
     "text": [
      "2.Frequency of marks\n",
      "{100: 36, 80: 12, 70: 24, 60: 12, 50: 12, 40: 24, 30: 36, 20: 24, 10: 12}\n"
     ]
    }
   ],
   "source": [
    "frequency_m= {}\n",
    "for mark in marks:\n",
    "    if mark in frequency_m:\n",
    "        frequency_m[mark] += 1\n",
    "    else:\n",
    "        frequency_m[mark] = 1\n",
    "print(\"2.Frequency of marks\")\n",
    "print(frequency_m)"
   ]
  },
  {
   "cell_type": "code",
   "execution_count": 54,
   "id": "stylish-catch",
   "metadata": {},
   "outputs": [
    {
     "name": "stdout",
     "output_type": "stream",
     "text": [
      "['John', 'Rima', 'Alpha', 'Ram', 'Jack', 'Rima', 'Beta', 'Shyam', 'Jim', 'Rina', 'Alpha', 'Ram', 'Jack', 'Rima', 'Beta', 'Shyam', 'Katy', 'Jaya', 'Alpha', 'Stephanie', 'Beyonder', 'Katy', 'Stephanie', 'Katy', 'Jim', 'Rina', 'Katy', 'Ram', 'Stephanie', 'Jaya', 'Ludwika', 'Beyonder', 'Chris', 'Brody', 'Alpha', 'Thor', 'Bjor', 'Chris', 'Beta', 'Tony', 'Thor', 'Rina', 'Ron', 'Tony', 'Jack', 'Brody', 'Beta', 'Shyam', 'Katy', 'Jaya', 'Alpha', 'Stephanie', 'Beyonder', 'Jatz', 'Jatz', 'Katy', 'Jim', 'Beyonder', 'Katy', 'Bjor', 'Stephanie', 'Jaya', 'Ludwika', 'Beyonder', 'John', 'Rima', 'Alpha', 'Ram', 'Jack', 'Rima', 'Beta', 'Shyam', 'Jim', 'Rina', 'Alpha', 'Ram', 'Jack', 'Rima', 'Beta', 'Shyam', 'Katy', 'Jaya', 'Alpha', 'Stephanie', 'Beyonder', 'Katy', 'Stephanie', 'Katy', 'Jim', 'Rina', 'Katy', 'Ram', 'Stephanie', 'Jaya', 'Ludwika', 'Beyonder', 'Chris', 'Brody', 'Alpha', 'Thor', 'Bjor', 'Chris', 'Beta', 'Tony', 'Thor', 'Rina', 'Ron', 'Tony', 'Jack', 'Brody', 'Beta', 'Shyam', 'Katy', 'Jaya', 'Alpha', 'Stephanie', 'Beyonder', 'Jatz', 'Jatz', 'Katy', 'Jim', 'Beyonder', 'Katy', 'Bjor', 'Stephanie', 'Jaya', 'Ludwika', 'Beyonder', 'John', 'Rima', 'Alpha', 'Ram', 'Jack', 'Rima', 'Beta', 'Shyam', 'Jim', 'Rina', 'Alpha', 'Ram', 'Jack', 'Rima', 'Beta', 'Shyam', 'Katy', 'Jaya', 'Alpha', 'Stephanie', 'Beyonder', 'Katy', 'Stephanie', 'Katy', 'Jim', 'Rina', 'Katy', 'Ram', 'Stephanie', 'Jaya', 'Ludwika', 'Beyonder', 'Chris', 'Brody', 'Alpha', 'Thor', 'Bjor', 'Chris', 'Beta', 'Tony', 'Thor', 'Rina', 'Ron', 'Tony', 'Jack', 'Brody', 'Beta', 'Shyam', 'Katy', 'Jaya', 'Alpha', 'Stephanie', 'Beyonder', 'Jatz', 'Jatz', 'Katy', 'Jim', 'Beyonder', 'Katy', 'Bjor', 'Stephanie', 'Jaya', 'Ludwika', 'Beyonder']\n"
     ]
    }
   ],
   "source": [
    "print(n)"
   ]
  },
  {
   "cell_type": "code",
   "execution_count": 55,
   "id": "ethical-month",
   "metadata": {},
   "outputs": [
    {
     "name": "stdout",
     "output_type": "stream",
     "text": [
      "[100, 70, 80, 30, 20, 60, 50, 40, 100, 70, 40, 20, 100, 30, 30, 10, 100, 70, 80, 30, 20, 60, 50, 40, 100, 70, 40, 20, 100, 30, 30, 10, 100, 70, 80, 30, 20, 60, 50, 40, 100, 70, 40, 20, 100, 30, 30, 10, 100, 70, 80, 30, 20, 60, 50, 40, 100, 70, 40, 20, 100, 30, 30, 10, 100, 70, 80, 30, 20, 60, 50, 40, 100, 70, 40, 20, 100, 30, 30, 10, 100, 70, 80, 30, 20, 60, 50, 40, 100, 70, 40, 20, 100, 30, 30, 10, 100, 70, 80, 30, 20, 60, 50, 40, 100, 70, 40, 20, 100, 30, 30, 10, 100, 70, 80, 30, 20, 60, 50, 40, 100, 70, 40, 20, 100, 30, 30, 10, 100, 70, 80, 30, 20, 60, 50, 40, 100, 70, 40, 20, 100, 30, 30, 10, 100, 70, 80, 30, 20, 60, 50, 40, 100, 70, 40, 20, 100, 30, 30, 10, 100, 70, 80, 30, 20, 60, 50, 40, 100, 70, 40, 20, 100, 30, 30, 10, 100, 70, 80, 30, 20, 60, 50, 40, 100, 70, 40, 20, 100, 30, 30, 10]\n"
     ]
    }
   ],
   "source": [
    "print(m)"
   ]
  },
  {
   "cell_type": "code",
   "execution_count": 56,
   "id": "operational-means",
   "metadata": {},
   "outputs": [
    {
     "name": "stdout",
     "output_type": "stream",
     "text": [
      "['John', 100, 'Rima', 70, 'Alpha', 80, 'Ram', 30, 'Jack', 20, 'Rima', 60, 'Beta', 50, 'Shyam', 40, 'Jim', 100, 'Rina', 70, 'Alpha', 40, 'Ram', 20, 'Jack', 100, 'Rima', 30, 'Beta', 30, 'Shyam', 10, 'Katy', 100, 'Jaya', 70, 'Alpha', 80, 'Stephanie', 30, 'Beyonder', 20, 'Katy', 60, 'Stephanie', 50, 'Katy', 40, 'Jim', 100, 'Rina', 70, 'Katy', 40, 'Ram', 20, 'Stephanie', 100, 'Jaya', 30, 'Ludwika', 30, 'Beyonder', 10, 'Chris', 100, 'Brody', 70, 'Alpha', 80, 'Thor', 30, 'Bjor', 20, 'Chris', 60, 'Beta', 50, 'Tony', 40, 'Thor', 100, 'Rina', 70, 'Ron', 40, 'Tony', 20, 'Jack', 100, 'Brody', 30, 'Beta', 30, 'Shyam', 10, 'Katy', 100, 'Jaya', 70, 'Alpha', 80, 'Stephanie', 30, 'Beyonder', 20, 'Jatz', 60, 'Jatz', 50, 'Katy', 40, 'Jim', 100, 'Beyonder', 70, 'Katy', 40, 'Bjor', 20, 'Stephanie', 100, 'Jaya', 30, 'Ludwika', 30, 'Beyonder', 10, 'John', 100, 'Rima', 70, 'Alpha', 80, 'Ram', 30, 'Jack', 20, 'Rima', 60, 'Beta', 50, 'Shyam', 40, 'Jim', 100, 'Rina', 70, 'Alpha', 40, 'Ram', 20, 'Jack', 100, 'Rima', 30, 'Beta', 30, 'Shyam', 10, 'Katy', 100, 'Jaya', 70, 'Alpha', 80, 'Stephanie', 30, 'Beyonder', 20, 'Katy', 60, 'Stephanie', 50, 'Katy', 40, 'Jim', 100, 'Rina', 70, 'Katy', 40, 'Ram', 20, 'Stephanie', 100, 'Jaya', 30, 'Ludwika', 30, 'Beyonder', 10, 'Chris', 100, 'Brody', 70, 'Alpha', 80, 'Thor', 30, 'Bjor', 20, 'Chris', 60, 'Beta', 50, 'Tony', 40, 'Thor', 100, 'Rina', 70, 'Ron', 40, 'Tony', 20, 'Jack', 100, 'Brody', 30, 'Beta', 30, 'Shyam', 10, 'Katy', 100, 'Jaya', 70, 'Alpha', 80, 'Stephanie', 30, 'Beyonder', 20, 'Jatz', 60, 'Jatz', 50, 'Katy', 40, 'Jim', 100, 'Beyonder', 70, 'Katy', 40, 'Bjor', 20, 'Stephanie', 100, 'Jaya', 30, 'Ludwika', 30, 'Beyonder', 10, 'John', 100, 'Rima', 70, 'Alpha', 80, 'Ram', 30, 'Jack', 20, 'Rima', 60, 'Beta', 50, 'Shyam', 40, 'Jim', 100, 'Rina', 70, 'Alpha', 40, 'Ram', 20, 'Jack', 100, 'Rima', 30, 'Beta', 30, 'Shyam', 10, 'Katy', 100, 'Jaya', 70, 'Alpha', 80, 'Stephanie', 30, 'Beyonder', 20, 'Katy', 60, 'Stephanie', 50, 'Katy', 40, 'Jim', 100, 'Rina', 70, 'Katy', 40, 'Ram', 20, 'Stephanie', 100, 'Jaya', 30, 'Ludwika', 30, 'Beyonder', 10, 'Chris', 100, 'Brody', 70, 'Alpha', 80, 'Thor', 30, 'Bjor', 20, 'Chris', 60, 'Beta', 50, 'Tony', 40, 'Thor', 100, 'Rina', 70, 'Ron', 40, 'Tony', 20, 'Jack', 100, 'Brody', 30, 'Beta', 30, 'Shyam', 10, 'Katy', 100, 'Jaya', 70, 'Alpha', 80, 'Stephanie', 30, 'Beyonder', 20, 'Jatz', 60, 'Jatz', 50, 'Katy', 40, 'Jim', 100, 'Beyonder', 70, 'Katy', 40, 'Bjor', 20, 'Stephanie', 100, 'Jaya', 30, 'Ludwika', 30, 'Beyonder', 10]\n"
     ]
    }
   ],
   "source": [
    "lst=[]\n",
    "for i in range(0,len(n)):\n",
    "    lst.extend([n[i],m[i]])\n",
    "print(lst)"
   ]
  },
  {
   "cell_type": "code",
   "execution_count": 57,
   "id": "essential-companion",
   "metadata": {},
   "outputs": [
    {
     "name": "stdout",
     "output_type": "stream",
     "text": [
      "(660, 300, 390, 390, 120, 480, 180, 300, 900, 180, 480, 930, 180, 600, 210, 480, 630, 120, 1080, 330, 1260)\n"
     ]
    }
   ],
   "source": [
    "lst1=[]\n",
    "lista=list(dis_names)\n",
    "summ=0\n",
    "lstsum=[]\n",
    "for j in range(0,len(lista)):\n",
    "    for i in range(0,len(lst)):\n",
    "        if lst[i]==lista[j]:\n",
    "            lst1.append(lst[i+1])\n",
    "            summ=summ+lst[i+1]\n",
    "    lstsum.append(summ)\n",
    "    summ=0\n",
    "lstsum=tuple(lstsum)\n",
    "print(lstsum)"
   ]
  },
  {
   "cell_type": "code",
   "execution_count": 58,
   "id": "developing-premises",
   "metadata": {},
   "outputs": [
    {
     "name": "stdout",
     "output_type": "stream",
     "text": [
      "(70, 30, 70, 30, 70, 30)\n"
     ]
    }
   ],
   "source": [
    "def func_mark(k):\n",
    "    lst_marks=[]\n",
    "    for i in range(0,len(lst)):\n",
    "        if lst[i]==k:\n",
    "            lst_marks.append(lst[i+1])\n",
    "    lst_marks=tuple(lst_marks)\n",
    "    return(lst_marks)\n",
    "    \n",
    "print(func_mark(\"Brody\"))  #callin to check the workin"
   ]
  },
  {
   "cell_type": "code",
   "execution_count": 59,
   "id": "modular-property",
   "metadata": {},
   "outputs": [
    {
     "name": "stdout",
     "output_type": "stream",
     "text": [
      "[(20, 100, 100, 20, 100, 100, 20, 100, 100), [660]]\n",
      "[(70, 30, 70, 30, 70, 30), [300]]\n",
      "[(20, 10, 20, 70, 10, 20, 10, 20, 70, 10, 20, 10, 20, 70, 10), [390]]\n",
      "[(30, 100, 30, 100, 30, 100), [390]]\n",
      "[(40, 40, 40), [120]]\n",
      "[(50, 30, 50, 30, 50, 30, 50, 30, 50, 30, 50, 30), [480]]\n",
      "[(40, 10, 10, 40, 10, 10, 40, 10, 10), [180]]\n",
      "[(100, 100, 100), [300]]\n",
      "[(100, 100, 100, 100, 100, 100, 100, 100, 100), [900]]\n",
      "[(40, 20, 40, 20, 40, 20), [180]]\n",
      "[(70, 60, 30, 70, 60, 30, 70, 60, 30), [480]]\n",
      "[(30, 50, 100, 30, 100, 30, 50, 100, 30, 100, 30, 50, 100, 30, 100), [930]]\n",
      "[(30, 30, 30, 30, 30, 30), [180]]\n",
      "[(70, 30, 70, 30, 70, 30, 70, 30, 70, 30, 70, 30), [600]]\n",
      "[(30, 20, 20, 30, 20, 20, 30, 20, 20), [210]]\n",
      "[(100, 60, 100, 60, 100, 60), [480]]\n",
      "[(70, 70, 70, 70, 70, 70, 70, 70, 70), [630]]\n",
      "[(20, 20, 20, 20, 20, 20), [120]]\n",
      "[(80, 40, 80, 80, 80, 80, 40, 80, 80, 80, 80, 40, 80, 80, 80), [1080]]\n",
      "[(60, 50, 60, 50, 60, 50), [330]]\n",
      "[(100, 60, 40, 40, 100, 40, 40, 100, 60, 40, 40, 100, 40, 40, 100, 60, 40, 40, 100, 40, 40), [1260]]\n"
     ]
    }
   ],
   "source": [
    "keys = lista\n",
    "values= lstsum\n",
    "for i in range(0,len(lista)):\n",
    "    a=[func_mark(lista[i])]\n",
    "    value=(a)\n",
    "    val1=list(value)\n",
    "    val1.append([lstsum[i]])\n",
    "    value_=list(val1)\n",
    "    print(value_)\n"
   ]
  },
  {
   "cell_type": "code",
   "execution_count": 60,
   "id": "editorial-standing",
   "metadata": {},
   "outputs": [
    {
     "name": "stdout",
     "output_type": "stream",
     "text": [
      "[(20, 100, 100, 20, 100, 100, 20, 100, 100, 660)]\n",
      "[(70, 30, 70, 30, 70, 30, 300)]\n",
      "[(20, 10, 20, 70, 10, 20, 10, 20, 70, 10, 20, 10, 20, 70, 10, 390)]\n",
      "[(30, 100, 30, 100, 30, 100, 390)]\n",
      "[(40, 40, 40, 120)]\n",
      "[(50, 30, 50, 30, 50, 30, 50, 30, 50, 30, 50, 30, 480)]\n",
      "[(40, 10, 10, 40, 10, 10, 40, 10, 10, 180)]\n",
      "[(100, 100, 100, 300)]\n",
      "[(100, 100, 100, 100, 100, 100, 100, 100, 100, 900)]\n",
      "[(40, 20, 40, 20, 40, 20, 180)]\n",
      "[(70, 60, 30, 70, 60, 30, 70, 60, 30, 480)]\n",
      "[(30, 50, 100, 30, 100, 30, 50, 100, 30, 100, 30, 50, 100, 30, 100, 930)]\n",
      "[(30, 30, 30, 30, 30, 30, 180)]\n",
      "[(70, 30, 70, 30, 70, 30, 70, 30, 70, 30, 70, 30, 600)]\n",
      "[(30, 20, 20, 30, 20, 20, 30, 20, 20, 210)]\n",
      "[(100, 60, 100, 60, 100, 60, 480)]\n",
      "[(70, 70, 70, 70, 70, 70, 70, 70, 70, 630)]\n",
      "[(20, 20, 20, 20, 20, 20, 120)]\n",
      "[(80, 40, 80, 80, 80, 80, 40, 80, 80, 80, 80, 40, 80, 80, 80, 1080)]\n",
      "[(60, 50, 60, 50, 60, 50, 330)]\n",
      "[(100, 60, 40, 40, 100, 40, 40, 100, 60, 40, 40, 100, 40, 40, 100, 60, 40, 40, 100, 40, 40, 1260)]\n"
     ]
    }
   ],
   "source": [
    "values= lstsum\n",
    "for i in range(0,len(lista)):\n",
    "    keys = lista[i]\n",
    "    a=func_mark(lista[i])\n",
    "    value=(a)\n",
    "    val1=list(value)\n",
    "    val1.append(lstsum[i])\n",
    "    value=tuple(val1)\n",
    "    value_=[]\n",
    "    value_.append(value)\n",
    "    print(value_)\n"
   ]
  },
  {
   "cell_type": "code",
   "execution_count": 61,
   "id": "former-burke",
   "metadata": {},
   "outputs": [
    {
     "name": "stdout",
     "output_type": "stream",
     "text": [
      "Brody\n"
     ]
    }
   ],
   "source": [
    "def func_key(i):\n",
    "    return lista[i]\n",
    "print(func_key(1))"
   ]
  },
  {
   "cell_type": "code",
   "execution_count": 62,
   "id": "banned-alignment",
   "metadata": {},
   "outputs": [
    {
     "data": {
      "text/plain": [
       "([70, 30, 70, 30, 70, 30], 300)"
      ]
     },
     "execution_count": 62,
     "metadata": {},
     "output_type": "execute_result"
    }
   ],
   "source": [
    "def func_val(i):\n",
    "    keys = lista[i]\n",
    "    a=func_mark(lista[i])\n",
    "    value=(a)\n",
    "    val1=list(value)\n",
    "    #val1.append(lstsum[i])\n",
    "    value=(val1,lstsum[i])\n",
    "    #value_=[]\n",
    "    #value_.append(value)\n",
    "    return(value)\n",
    "func_val(1)"
   ]
  },
  {
   "cell_type": "code",
   "execution_count": 63,
   "id": "consecutive-nebraska",
   "metadata": {},
   "outputs": [
    {
     "name": "stdout",
     "output_type": "stream",
     "text": [
      "{'Jack': ([20, 100, 100, 20, 100, 100, 20, 100, 100], 660)}\n",
      "{'Brody': ([70, 30, 70, 30, 70, 30], 300)}\n",
      "{'Beyonder': ([20, 10, 20, 70, 10, 20, 10, 20, 70, 10, 20, 10, 20, 70, 10], 390)}\n",
      "{'Thor': ([30, 100, 30, 100, 30, 100], 390)}\n",
      "{'Ron': ([40, 40, 40], 120)}\n",
      "{'Beta': ([50, 30, 50, 30, 50, 30, 50, 30, 50, 30, 50, 30], 480)}\n",
      "{'Shyam': ([40, 10, 10, 40, 10, 10, 40, 10, 10], 180)}\n",
      "{'John': ([100, 100, 100], 300)}\n",
      "{'Jim': ([100, 100, 100, 100, 100, 100, 100, 100, 100], 900)}\n",
      "{'Tony': ([40, 20, 40, 20, 40, 20], 180)}\n",
      "{'Rima': ([70, 60, 30, 70, 60, 30, 70, 60, 30], 480)}\n",
      "{'Stephanie': ([30, 50, 100, 30, 100, 30, 50, 100, 30, 100, 30, 50, 100, 30, 100], 930)}\n",
      "{'Ludwika': ([30, 30, 30, 30, 30, 30], 180)}\n",
      "{'Jaya': ([70, 30, 70, 30, 70, 30, 70, 30, 70, 30, 70, 30], 600)}\n",
      "{'Ram': ([30, 20, 20, 30, 20, 20, 30, 20, 20], 210)}\n",
      "{'Chris': ([100, 60, 100, 60, 100, 60], 480)}\n",
      "{'Rina': ([70, 70, 70, 70, 70, 70, 70, 70, 70], 630)}\n",
      "{'Bjor': ([20, 20, 20, 20, 20, 20], 120)}\n",
      "{'Alpha': ([80, 40, 80, 80, 80, 80, 40, 80, 80, 80, 80, 40, 80, 80, 80], 1080)}\n",
      "{'Jatz': ([60, 50, 60, 50, 60, 50], 330)}\n",
      "{'Katy': ([100, 60, 40, 40, 100, 40, 40, 100, 60, 40, 40, 100, 40, 40, 100, 60, 40, 40, 100, 40, 40], 1260)}\n"
     ]
    }
   ],
   "source": [
    "for i in range(0,len(lista)):\n",
    "    a=func_key(i)\n",
    "    b=func_val(i)\n",
    "    dictionary={a:b}\n",
    "    print(dictionary)\n",
    "#this created different dictionaries"
   ]
  },
  {
   "cell_type": "code",
   "execution_count": 64,
   "id": "native-immunology",
   "metadata": {},
   "outputs": [
    {
     "name": "stdout",
     "output_type": "stream",
     "text": [
      "{'Jack': ([20, 100, 100, 20, 100, 100, 20, 100, 100], 660), 'Brody': ([70, 30, 70, 30, 70, 30], 300), 'Beyonder': ([20, 10, 20, 70, 10, 20, 10, 20, 70, 10, 20, 10, 20, 70, 10], 390), 'Thor': ([30, 100, 30, 100, 30, 100], 390), 'Ron': ([40, 40, 40], 120), 'Beta': ([50, 30, 50, 30, 50, 30, 50, 30, 50, 30, 50, 30], 480), 'Shyam': ([40, 10, 10, 40, 10, 10, 40, 10, 10], 180), 'John': ([100, 100, 100], 300), 'Jim': ([100, 100, 100, 100, 100, 100, 100, 100, 100], 900), 'Tony': ([40, 20, 40, 20, 40, 20], 180), 'Rima': ([70, 60, 30, 70, 60, 30, 70, 60, 30], 480), 'Stephanie': ([30, 50, 100, 30, 100, 30, 50, 100, 30, 100, 30, 50, 100, 30, 100], 930), 'Ludwika': ([30, 30, 30, 30, 30, 30], 180), 'Jaya': ([70, 30, 70, 30, 70, 30, 70, 30, 70, 30, 70, 30], 600), 'Ram': ([30, 20, 20, 30, 20, 20, 30, 20, 20], 210), 'Chris': ([100, 60, 100, 60, 100, 60], 480), 'Rina': ([70, 70, 70, 70, 70, 70, 70, 70, 70], 630), 'Bjor': ([20, 20, 20, 20, 20, 20], 120), 'Alpha': ([80, 40, 80, 80, 80, 80, 40, 80, 80, 80, 80, 40, 80, 80, 80], 1080), 'Jatz': ([60, 50, 60, 50, 60, 50], 330), 'Katy': ([100, 60, 40, 40, 100, 40, 40, 100, 60, 40, 40, 100, 40, 40, 100, 60, 40, 40, 100, 40, 40], 1260)}\n"
     ]
    }
   ],
   "source": [
    "dicts={}\n",
    "for i in range(0,len(lista)) :\n",
    "    a=func_key(i)\n",
    "    b=func_val(i)\n",
    "    dicts[a] = b\n",
    "print(dicts)\n",
    "#it is still unsorted"
   ]
  },
  {
   "cell_type": "markdown",
   "id": "secret-supervisor",
   "metadata": {},
   "source": [
    "<h3 align=\"center\">1.3</h3> "
   ]
  },
  {
   "cell_type": "code",
   "execution_count": 65,
   "id": "intellectual-stream",
   "metadata": {},
   "outputs": [
    {
     "name": "stdout",
     "output_type": "stream",
     "text": [
      "3.Marks of each student and sum of marks\n",
      "[('Ron', ([40, 40, 40], 120)), ('Bjor', ([20, 20, 20, 20, 20, 20], 120)), ('Shyam', ([40, 10, 10, 40, 10, 10, 40, 10, 10], 180)), ('Tony', ([40, 20, 40, 20, 40, 20], 180)), ('Ludwika', ([30, 30, 30, 30, 30, 30], 180)), ('Ram', ([30, 20, 20, 30, 20, 20, 30, 20, 20], 210)), ('Brody', ([70, 30, 70, 30, 70, 30], 300)), ('John', ([100, 100, 100], 300)), ('Jatz', ([60, 50, 60, 50, 60, 50], 330)), ('Beyonder', ([20, 10, 20, 70, 10, 20, 10, 20, 70, 10, 20, 10, 20, 70, 10], 390)), ('Thor', ([30, 100, 30, 100, 30, 100], 390)), ('Beta', ([50, 30, 50, 30, 50, 30, 50, 30, 50, 30, 50, 30], 480)), ('Rima', ([70, 60, 30, 70, 60, 30, 70, 60, 30], 480)), ('Chris', ([100, 60, 100, 60, 100, 60], 480)), ('Jaya', ([70, 30, 70, 30, 70, 30, 70, 30, 70, 30, 70, 30], 600)), ('Rina', ([70, 70, 70, 70, 70, 70, 70, 70, 70], 630)), ('Jack', ([20, 100, 100, 20, 100, 100, 20, 100, 100], 660)), ('Jim', ([100, 100, 100, 100, 100, 100, 100, 100, 100], 900)), ('Stephanie', ([30, 50, 100, 30, 100, 30, 50, 100, 30, 100, 30, 50, 100, 30, 100], 930)), ('Alpha', ([80, 40, 80, 80, 80, 80, 40, 80, 80, 80, 80, 40, 80, 80, 80], 1080)), ('Katy', ([100, 60, 40, 40, 100, 40, 40, 100, 60, 40, 40, 100, 40, 40, 100, 60, 40, 40, 100, 40, 40], 1260))]\n"
     ]
    }
   ],
   "source": [
    "dicts=sorted(dicts.items(), key=lambda e: e[1][-1])\n",
    "print(\"3.Marks of each student and sum of marks\")\n",
    "print(dicts)"
   ]
  }
 ],
 "metadata": {
  "kernelspec": {
   "display_name": "Python 3",
   "language": "python",
   "name": "python3"
  },
  "language_info": {
   "codemirror_mode": {
    "name": "ipython",
    "version": 3
   },
   "file_extension": ".py",
   "mimetype": "text/x-python",
   "name": "python",
   "nbconvert_exporter": "python",
   "pygments_lexer": "ipython3",
   "version": "3.7.1"
  }
 },
 "nbformat": 4,
 "nbformat_minor": 5
}
